{
 "cells": [
  {
   "cell_type": "markdown",
   "id": "center-superintendent",
   "metadata": {},
   "source": [
    "###  Islands: Generalized Linear Models - Chapter 1\n",
    "\n",
    "[Back to Main Page](0_main_page.ipynb)\n",
    "\n",
    "<br>\n",
    "\n",
    "<h1> <center> What is  Statistical Modelling? </center> </h1>  "
   ]
  },
  {
   "cell_type": "markdown",
   "id": "intense-employer",
   "metadata": {},
   "source": [
    "## What is a statistical model for?\n",
    "\n",
    "[Populations and samples]\n",
    "\n",
    "Description and prediction. Describe the relationships in a dataset, generate predictions about data from the same population, which is not in the current dataset. \n",
    "\n",
    "This textbook will focus on models being useful, rather than models being true.\n",
    "\n",
    "[MENTION GENERAL LINEAR REALITY ARTICLE]\n",
    "\n",
    "[Model is fit in the same way, terminology might vary based on the purpose of the model]\n",
    "\n",
    "## The structure of Generalized Linear Models\n",
    "\n",
    "### The population perspective\n",
    "\n",
    "[Observation equation - data generating process]\n",
    "\n",
    "$\\large \\mu_i = \\beta_0 + \\beta_1x_{1i} ... + \\beta_kx_{ki} + \\epsilon_i $\n",
    "\n",
    "[Explain element by element]\n",
    "\n",
    "[Systematic linear component + error component]\n",
    "\n",
    "[We are modelling the conditional mean of $Y$ as a function of a predictor, or set of predictors, where each element in the population has a score on the outcome variable, and on each predictor variable]\n",
    "\n",
    "$\\large \\mu_i = \\beta_0 + \\beta_1x_{1i} ... + \\beta_kx_{ki} + \\epsilon_i $\n",
    "\n",
    "[If predictors are useless, no change in $\\mu$ as function of predictor values]\n",
    "\n",
    "[Islands picture here OR under title?]"
   ]
  },
  {
   "cell_type": "code",
   "execution_count": 29,
   "id": "ee537d95",
   "metadata": {
    "scrolled": false
   },
   "outputs": [
    {
     "data": {
      "text/html": [
       "<div>\n",
       "<style scoped>\n",
       "    .dataframe tbody tr th:only-of-type {\n",
       "        vertical-align: middle;\n",
       "    }\n",
       "\n",
       "    .dataframe tbody tr th {\n",
       "        vertical-align: top;\n",
       "    }\n",
       "\n",
       "    .dataframe thead th {\n",
       "        text-align: right;\n",
       "    }\n",
       "</style>\n",
       "<table border=\"1\" class=\"dataframe\">\n",
       "  <thead>\n",
       "    <tr style=\"text-align: right;\">\n",
       "      <th></th>\n",
       "      <th>monthly_income</th>\n",
       "      <th>savings</th>\n",
       "    </tr>\n",
       "  </thead>\n",
       "  <tbody>\n",
       "    <tr>\n",
       "      <th>0</th>\n",
       "      <td>2288.0</td>\n",
       "      <td>524.6</td>\n",
       "    </tr>\n",
       "    <tr>\n",
       "      <th>1</th>\n",
       "      <td>1728.0</td>\n",
       "      <td>378.6</td>\n",
       "    </tr>\n",
       "    <tr>\n",
       "      <th>2</th>\n",
       "      <td>1866.0</td>\n",
       "      <td>363.2</td>\n",
       "    </tr>\n",
       "    <tr>\n",
       "      <th>3</th>\n",
       "      <td>2265.0</td>\n",
       "      <td>594.0</td>\n",
       "    </tr>\n",
       "    <tr>\n",
       "      <th>4</th>\n",
       "      <td>1757.0</td>\n",
       "      <td>270.4</td>\n",
       "    </tr>\n",
       "    <tr>\n",
       "      <th>...</th>\n",
       "      <td>...</td>\n",
       "      <td>...</td>\n",
       "    </tr>\n",
       "    <tr>\n",
       "      <th>995</th>\n",
       "      <td>1308.0</td>\n",
       "      <td>306.6</td>\n",
       "    </tr>\n",
       "    <tr>\n",
       "      <th>996</th>\n",
       "      <td>2259.0</td>\n",
       "      <td>538.8</td>\n",
       "    </tr>\n",
       "    <tr>\n",
       "      <th>997</th>\n",
       "      <td>2558.0</td>\n",
       "      <td>582.6</td>\n",
       "    </tr>\n",
       "    <tr>\n",
       "      <th>998</th>\n",
       "      <td>1758.0</td>\n",
       "      <td>327.6</td>\n",
       "    </tr>\n",
       "    <tr>\n",
       "      <th>999</th>\n",
       "      <td>2101.0</td>\n",
       "      <td>468.2</td>\n",
       "    </tr>\n",
       "  </tbody>\n",
       "</table>\n",
       "<p>1000 rows × 2 columns</p>\n",
       "</div>"
      ],
      "text/plain": [
       "     monthly_income  savings\n",
       "0            2288.0    524.6\n",
       "1            1728.0    378.6\n",
       "2            1866.0    363.2\n",
       "3            2265.0    594.0\n",
       "4            1757.0    270.4\n",
       "..              ...      ...\n",
       "995          1308.0    306.6\n",
       "996          2259.0    538.8\n",
       "997          2558.0    582.6\n",
       "998          1758.0    327.6\n",
       "999          2101.0    468.2\n",
       "\n",
       "[1000 rows x 2 columns]"
      ]
     },
     "execution_count": 29,
     "metadata": {},
     "output_type": "execute_result"
    }
   ],
   "source": [
    "import numpy as np\n",
    "import matplotlib.pyplot as plt\n",
    "import pandas as pd\n",
    "\n",
    "population_income = np.random.gamma(50, 40, 1000).round()\n",
    "\n",
    "population_savings = population_income * 0.2 + np.random.normal(0, 50, 1000).round()\n",
    "\n",
    "df = pd.DataFrame({'monthly_income': population_income,\n",
    "                  'savings': population_savings})\n",
    "\n",
    "df"
   ]
  },
  {
   "cell_type": "code",
   "execution_count": 41,
   "id": "4606d634",
   "metadata": {},
   "outputs": [
    {
     "data": {
      "image/png": "[encoded data removed]",
      "text/plain": [
       "<Figure size 432x288 with 1 Axes>"
      ]
     },
     "metadata": {
      "needs_background": "light"
     },
     "output_type": "display_data"
    }
   ],
   "source": [
    "plt.hist(population_income)\n",
    "plt.xlabel('Monthly Income')\n",
    "plt.ylabel('Frequency')\n",
    "plt.show()"
   ]
  },
  {
   "cell_type": "code",
   "execution_count": 40,
   "id": "fff35f00",
   "metadata": {},
   "outputs": [
    {
     "data": {
      "image/png": "[encoded data removed]",
      "text/plain": [
       "<Figure size 432x288 with 1 Axes>"
      ]
     },
     "metadata": {
      "needs_background": "light"
     },
     "output_type": "display_data"
    }
   ],
   "source": [
    "plt.hist(population_savings, color = 'red')\n",
    "plt.xlabel('Savings')\n",
    "plt.ylabel('Frequency')\n",
    "plt.axvline(population_savings.mean(), color = 'darkred', label = 'Savings population mean')\n",
    "plt.legend(bbox_to_anchor = (1, 1))\n",
    "plt.show()"
   ]
  },
  {
   "cell_type": "code",
   "execution_count": 43,
   "id": "9c5cae77",
   "metadata": {},
   "outputs": [
    {
     "data": {
      "image/png": "[encoded data removed]",
      "text/plain": [
       "<Figure size 432x288 with 1 Axes>"
      ]
     },
     "metadata": {
      "needs_background": "light"
     },
     "output_type": "display_data"
    }
   ],
   "source": [
    "plt.scatter(population_income, population_savings, color = 'purple')\n",
    "plt.xlabel('Monthly Income')\n",
    "plt.ylabel('Savings')\n",
    "plt.show()"
   ]
  },
  {
   "cell_type": "code",
   "execution_count": 45,
   "id": "5721d391",
   "metadata": {},
   "outputs": [
    {
     "data": {
      "image/png": "[encoded data removed]",
      "text/plain": [
       "<Figure size 432x288 with 1 Axes>"
      ]
     },
     "metadata": {
      "needs_background": "light"
     },
     "output_type": "display_data"
    }
   ],
   "source": [
    "plt.scatter(population_income, population_savings, color = 'purple')\n",
    "plt.axhline(population_savings.mean(), color = 'darkred', label = 'Savings population mean')\n",
    "plt.legend(bbox_to_anchor = (1, 1))\n",
    "plt.xlabel('Monthly Income')\n",
    "plt.ylabel('Savings')\n",
    "plt.show()"
   ]
  },
  {
   "cell_type": "markdown",
   "id": "37e801e0",
   "metadata": {},
   "source": [
    "[Mean only model]\n",
    "\n",
    "[Does modelling a conditional mean fit the data better?]"
   ]
  },
  {
   "cell_type": "code",
   "execution_count": 47,
   "id": "f0d119f9",
   "metadata": {},
   "outputs": [
    {
     "ename": "AttributeError",
     "evalue": "module 'scipy.stats' has no attribute 'binned_statistics'",
     "output_type": "error",
     "traceback": [
      "\u001b[1;31m---------------------------------------------------------------------------\u001b[0m",
      "\u001b[1;31mAttributeError\u001b[0m                            Traceback (most recent call last)",
      "\u001b[1;32m~\\AppData\\Local\\Temp\\ipykernel_5172\\3425112655.py\u001b[0m in \u001b[0;36m<module>\u001b[1;34m\u001b[0m\n\u001b[0;32m      1\u001b[0m \u001b[1;32mimport\u001b[0m \u001b[0mscipy\u001b[0m\u001b[1;33m.\u001b[0m\u001b[0mstats\u001b[0m \u001b[1;32mas\u001b[0m \u001b[0msp\u001b[0m\u001b[1;33m\u001b[0m\u001b[1;33m\u001b[0m\u001b[0m\n\u001b[0;32m      2\u001b[0m \u001b[0mn_bins\u001b[0m \u001b[1;33m=\u001b[0m \u001b[1;36m80\u001b[0m\u001b[1;33m\u001b[0m\u001b[1;33m\u001b[0m\u001b[0m\n\u001b[1;32m----> 3\u001b[1;33m \u001b[0mcond_means\u001b[0m\u001b[1;33m,\u001b[0m \u001b[0mbin_edges\u001b[0m\u001b[1;33m,\u001b[0m \u001b[0mbinnumber\u001b[0m \u001b[1;33m=\u001b[0m \u001b[0msp\u001b[0m\u001b[1;33m.\u001b[0m\u001b[0mbinned_statistics\u001b[0m\u001b[1;33m(\u001b[0m\u001b[0mvar2\u001b[0m\u001b[1;33m,\u001b[0m \u001b[0mvar1\u001b[0m\u001b[1;33m,\u001b[0m \u001b[0mstatistic\u001b[0m\u001b[1;33m=\u001b[0m\u001b[1;34m'mean'\u001b[0m\u001b[1;33m,\u001b[0m \u001b[0mbins\u001b[0m\u001b[1;33m=\u001b[0m\u001b[0mn_bins\u001b[0m\u001b[1;33m)\u001b[0m\u001b[1;33m\u001b[0m\u001b[1;33m\u001b[0m\u001b[0m\n\u001b[0m\u001b[0;32m      4\u001b[0m \u001b[1;33m\u001b[0m\u001b[0m\n\u001b[0;32m      5\u001b[0m \u001b[0mbin_width\u001b[0m \u001b[1;33m=\u001b[0m \u001b[0mbin_edges\u001b[0m\u001b[1;33m[\u001b[0m\u001b[1;36m1\u001b[0m\u001b[1;33m]\u001b[0m \u001b[1;33m-\u001b[0m \u001b[0mbin_edges\u001b[0m\u001b[1;33m[\u001b[0m\u001b[1;36m0\u001b[0m\u001b[1;33m]\u001b[0m\u001b[1;33m\u001b[0m\u001b[1;33m\u001b[0m\u001b[0m\n",
      "\u001b[1;31mAttributeError\u001b[0m: module 'scipy.stats' has no attribute 'binned_statistics'"
     ]
    }
   ],
   "source": []
  },
  {
   "cell_type": "markdown",
   "id": "initial-mouth",
   "metadata": {},
   "source": [
    "## Other Chapters\n",
    "\n",
    "1. [What is Statistical Modelling?]()\n",
    "2. [Linear Regression]()\n",
    "3. [Poisson Regression]()\n",
    "4. [Binary Logistic Regression]()\n",
    "5. [Multinomial Logistic Regression]()"
   ]
  },
  {
   "cell_type": "markdown",
   "id": "tight-ranch",
   "metadata": {},
   "source": [
    "***\n",
    "By [pxr687](99_about_the_author.ipynb) "
   ]
  }
 ],
 "metadata": {
  "kernelspec": {
   "display_name": "Python 3 (ipykernel)",
   "language": "python",
   "name": "python3"
  },
  "language_info": {
   "codemirror_mode": {
    "name": "ipython",
    "version": 3
   },
   "file_extension": ".py",
   "mimetype": "text/x-python",
   "name": "python",
   "nbconvert_exporter": "python",
   "pygments_lexer": "ipython3",
   "version": "3.7.11"
  }
 },
 "nbformat": 4,
 "nbformat_minor": 5
}
