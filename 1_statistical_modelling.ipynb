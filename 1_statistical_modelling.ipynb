{
 "cells": [
  {
   "cell_type": "markdown",
   "id": "center-superintendent",
   "metadata": {},
   "source": [
    "###  Islands: Generalized Linear Models - Chapter 1\n",
    "\n",
    "[Back to Main Page](0_main_page.ipynb)\n",
    "\n",
    "<br>\n",
    "\n",
    "<h1> <center> What is  Statistical Modelling? </center> </h1>  "
   ]
  },
  {
   "cell_type": "markdown",
   "id": "intense-employer",
   "metadata": {},
   "source": [
    "## What is a statistical model for?\n",
    "\n",
    "[Populations and samples]\n",
    "\n",
    "Description and prediction. Describe the relationships in a dataset, generate predictions about data from the same population, which is not in the current dataset. \n",
    "\n",
    "This textbook will focus on models being useful, rather than models being true.\n",
    "\n",
    "[MENTION GENERAL LINEAR REALITY ARTICLE]\n",
    "\n",
    "## The structure of Generalized Linear Models\n",
    "\n",
    "E(Y|X) = b0 + b1x1 ... + bkxk\n"
   ]
  },
  {
   "cell_type": "markdown",
   "id": "initial-mouth",
   "metadata": {},
   "source": [
    "## Other Chapters\n",
    "\n",
    "1. [What is Statistical Modelling?]()\n",
    "2. [Linear Regression]()\n",
    "3. [Poisson Regression]()\n",
    "4. [Binary Logistic Regression]()\n",
    "5. [Multinomial Logistic Regression]()"
   ]
  },
  {
   "cell_type": "markdown",
   "id": "tight-ranch",
   "metadata": {},
   "source": [
    "***\n",
    "By [pxr687](99_about_the_author.ipynb) "
   ]
  }
 ],
 "metadata": {
  "kernelspec": {
   "display_name": "Python 3 (ipykernel)",
   "language": "python",
   "name": "python3"
  },
  "language_info": {
   "codemirror_mode": {
    "name": "ipython",
    "version": 3
   },
   "file_extension": ".py",
   "mimetype": "text/x-python",
   "name": "python",
   "nbconvert_exporter": "python",
   "pygments_lexer": "ipython3",
   "version": "3.7.11"
  }
 },
 "nbformat": 4,
 "nbformat_minor": 5
}
