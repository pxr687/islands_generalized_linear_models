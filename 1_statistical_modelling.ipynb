{
 "cells": [
  {
   "cell_type": "markdown",
   "metadata": {},
   "source": [
    "###  Islands: Generalized Linear Models - Chapter 1\n",
    "\n",
    "[Back to Main Page](0_main_page.ipynb)\n",
    "\n",
    "<br>\n",
    "\n",
    "<h1> <center> What is  Statistical Modelling? </center> </h1>  "
   ]
  },
  {
   "cell_type": "markdown",
   "metadata": {},
   "source": [
    "## What is a statistical model for?\n",
    "\n",
    "[Populations and samples]\n",
    "\n",
    "Description and prediction. Describe the relationships in a dataset, generate predictions about data from the same population, which is not in the current dataset. \n",
    "\n",
    "This textbook will focus on models being useful, rather than models being true.\n",
    "\n",
    "[MENTION GENERAL LINEAR REALITY ARTICLE]\n",
    "\n",
    "[Model is fit in the same way, terminology might vary based on the purpose of the model]\n",
    "\n",
    "[This book will cover a subset of generalized linear models covering common outcome variables:]\n",
    "\n",
    "1. Quantitative continuous - [examples]\n",
    "2. Quantitative discrete (counts) - [examples]\n",
    "3. Binary categorical - [examples]\n",
    "3. Multi-category categorical - [examples]\n",
    "\n",
    "[Serve as a springboard for learning other GLMs - same process, different type of outcome variable, different like function, (and as we shall see) different likelihood function]\n",
    "\n",
    "[Each model first with a single continuous predictor]\n",
    "\n",
    "[Then with a multi-predictor model with one continuous and one categorical predictor]\n",
    "\n",
    "[First, necessary to say something about the abstract structure of GLMs]\n",
    "\n",
    "\n",
    "## Generalized Linear Models\n",
    "\n",
    "[Generalized linear models allow us to model some function of the mean, which let's us fit a linear model to a response distribution that is non-normal]\n",
    "\n",
    "[We are modelling some function of the conditional mean of $Y$ as a function of a predictor, or set of predictors, where each element in the population has a score on the outcome variable, and on each predictor variable]\n",
    "\n",
    "$\\large f(\\hat{\\mu_i}) = b_0 + b_1x_{1i} ... + b_kx_{ki} $\n",
    "\n",
    "[If predictor is useful its value gives us a lot of information about the value of the conditional mean]\n",
    "\n",
    "[Systematic linear component + error component]\n",
    "\n",
    "\n",
    "The link function $f(\\hat{\\mu_i})$ in linear regression is just multiplying by 1.\n",
    "\n",
    "$\\large \\hat{\\mu_i} = b_0 + b_1x_{1i} ... + b_kx_{ki} $\n",
    "\n",
    "\n",
    "[Let's look at a simple version of predicting using a conditional mean]"
   ]
  },
  {
   "cell_type": "code",
   "execution_count": 1,
   "metadata": {
    "scrolled": false
   },
   "outputs": [
    {
     "name": "stderr",
     "output_type": "stream",
     "text": [
      "C:\\Users\\rushpz\\AppData\\Roaming\\Python\\Python37\\site-packages\\pandas\\compat\\_optional.py:138: UserWarning: Pandas requires version '2.7.0' or newer of 'numexpr' (version '2.6.9' currently installed).\n",
      "  warnings.warn(msg, UserWarning)\n"
     ]
    },
    {
     "data": {
      "text/html": [
       "<div>\n",
       "<style scoped>\n",
       "    .dataframe tbody tr th:only-of-type {\n",
       "        vertical-align: middle;\n",
       "    }\n",
       "\n",
       "    .dataframe tbody tr th {\n",
       "        vertical-align: top;\n",
       "    }\n",
       "\n",
       "    .dataframe thead th {\n",
       "        text-align: right;\n",
       "    }\n",
       "</style>\n",
       "<table border=\"1\" class=\"dataframe\">\n",
       "  <thead>\n",
       "    <tr style=\"text-align: right;\">\n",
       "      <th></th>\n",
       "      <th>monthly_income</th>\n",
       "      <th>savings</th>\n",
       "    </tr>\n",
       "  </thead>\n",
       "  <tbody>\n",
       "    <tr>\n",
       "      <th>0</th>\n",
       "      <td>2144.0</td>\n",
       "      <td>413.8</td>\n",
       "    </tr>\n",
       "    <tr>\n",
       "      <th>1</th>\n",
       "      <td>2223.0</td>\n",
       "      <td>486.6</td>\n",
       "    </tr>\n",
       "    <tr>\n",
       "      <th>2</th>\n",
       "      <td>1903.0</td>\n",
       "      <td>334.6</td>\n",
       "    </tr>\n",
       "    <tr>\n",
       "      <th>3</th>\n",
       "      <td>1930.0</td>\n",
       "      <td>433.0</td>\n",
       "    </tr>\n",
       "    <tr>\n",
       "      <th>4</th>\n",
       "      <td>2530.0</td>\n",
       "      <td>517.0</td>\n",
       "    </tr>\n",
       "    <tr>\n",
       "      <th>...</th>\n",
       "      <td>...</td>\n",
       "      <td>...</td>\n",
       "    </tr>\n",
       "    <tr>\n",
       "      <th>995</th>\n",
       "      <td>1914.0</td>\n",
       "      <td>401.8</td>\n",
       "    </tr>\n",
       "    <tr>\n",
       "      <th>996</th>\n",
       "      <td>1928.0</td>\n",
       "      <td>320.6</td>\n",
       "    </tr>\n",
       "    <tr>\n",
       "      <th>997</th>\n",
       "      <td>1847.0</td>\n",
       "      <td>420.4</td>\n",
       "    </tr>\n",
       "    <tr>\n",
       "      <th>998</th>\n",
       "      <td>2220.0</td>\n",
       "      <td>359.0</td>\n",
       "    </tr>\n",
       "    <tr>\n",
       "      <th>999</th>\n",
       "      <td>2691.0</td>\n",
       "      <td>446.2</td>\n",
       "    </tr>\n",
       "  </tbody>\n",
       "</table>\n",
       "<p>1000 rows × 2 columns</p>\n",
       "</div>"
      ],
      "text/plain": [
       "     monthly_income  savings\n",
       "0            2144.0    413.8\n",
       "1            2223.0    486.6\n",
       "2            1903.0    334.6\n",
       "3            1930.0    433.0\n",
       "4            2530.0    517.0\n",
       "..              ...      ...\n",
       "995          1914.0    401.8\n",
       "996          1928.0    320.6\n",
       "997          1847.0    420.4\n",
       "998          2220.0    359.0\n",
       "999          2691.0    446.2\n",
       "\n",
       "[1000 rows x 2 columns]"
      ]
     },
     "execution_count": 1,
     "metadata": {},
     "output_type": "execute_result"
    }
   ],
   "source": [
    "import numpy as np\n",
    "import matplotlib.pyplot as plt\n",
    "import pandas as pd\n",
    "\n",
    "population_income = np.random.gamma(50, 40, 1000).round()\n",
    "\n",
    "population_savings = population_income * 0.2 + np.random.normal(0, 50, 1000).round()\n",
    "\n",
    "df = pd.DataFrame({'monthly_income': population_income,\n",
    "                  'savings': population_savings})\n",
    "\n",
    "df"
   ]
  },
  {
   "cell_type": "code",
   "execution_count": 22,
   "metadata": {},
   "outputs": [
    {
     "data": {
      "image/png": "[encoded data removed]",
      "text/plain": [
       "<Figure size 432x288 with 1 Axes>"
      ]
     },
     "metadata": {
      "needs_background": "light"
     },
     "output_type": "display_data"
    }
   ],
   "source": [
    "df['monthly_income_rounded'] = df['monthly_income'].round(-2)\n",
    "\n",
    "conditional_mean = df.groupby('monthly_income_rounded')['savings'].mean()\n",
    "\n",
    "plt.scatter(population_income, population_savings, color = 'purple')\n",
    "plt.axhline(population_savings.mean(), color = 'darkred', label = 'savings population mean')\n",
    "plt.plot(conditional_mean, label = 'conditional mean', color = 'orange')\n",
    "plt.legend(bbox_to_anchor = (1, 1))\n",
    "plt.xlabel('Monthly Income')\n",
    "plt.ylabel('Savings')\n",
    "plt.show()"
   ]
  },
  {
   "cell_type": "markdown",
   "metadata": {},
   "source": [
    "[Explanation that with linear models we predict the mean of a normal distribution, as a function of the predictor values]\n",
    "\n",
    "<img src=\"images/linear_regression_ML_general.png\" width=\"400\" height=\"100\">\n",
    "\n",
    "[say where image is adapted from]\n",
    "\n",
    "<img src=\"images/linear_regression_ML.png\" width=\"400\" height=\"100\"> \n",
    "\n",
    "[independent t-test image here, mention can use categorical predictors]\n",
    "\n",
    "[If there is no relationship between predictor and outcome:]\n",
    "\n",
    "<img src=\"images/linear_regression_ML_null_general.png\" width=\"400\" height=\"100\">\n",
    "\n",
    "<img src=\"images/linear_regression_ML_null.png\" width=\"400\" height=\"100\">\n",
    "\n",
    "[Explain how the linear model generates predictions ranging from positive to negative infinity, the link function maps the linear predictor to a function of the mean of the outcome variable which does range from positive to negative infinity: explain this via counts and probabilities]\n",
    "\n",
    "[We use predict a conditional mean, but of a different distribution than the normal distribution]\n",
    "\n",
    "\n",
    "\n",
    "| Regression Model         | Distribution             | Support                | Link name        | Link function         |\n",
    "|--------------------------|--------------------------|------------------------|------------------|-----------------------|\n",
    "| Linear Regression        | Normal Distribution      | real: (-∞, ∞)          | Identity         | $μ$                   |\n",
    "| Logistic Regression      | Bernoulli                | Integers: {0, 1}       | Logit          | $ln(\\frac{μ} {1 – μ})$ |\n",
    "| Poisson Regression       | Poisson Distribution     | integers: 0, 1, 2, …   | Log              | $ln(μ) $              |\n",
    "\n",
    "\n",
    "(table from: https://www.statisticshowto.com/link-function/#:~:text=A%20link%20function%20in%20a,variable%20in%20a%20linear%20way.)\n"
   ]
  },
  {
   "cell_type": "markdown",
   "metadata": {},
   "source": [
    "## Other Chapters\n",
    "\n",
    "1. [What is Statistical Modelling?]()\n",
    "2. [Linear Regression]()\n",
    "3. [Poisson Regression]()\n",
    "4. [Binary Logistic Regression]()\n",
    "5. [Multinomial Logistic Regression]()"
   ]
  },
  {
   "cell_type": "markdown",
   "metadata": {},
   "source": [
    "***\n",
    "By [pxr687](99_about_the_author.ipynb) "
   ]
  }
 ],
 "metadata": {
  "kernelspec": {
   "display_name": "Python 3",
   "language": "python",
   "name": "python3"
  },
  "language_info": {
   "codemirror_mode": {
    "name": "ipython",
    "version": 3
   },
   "file_extension": ".py",
   "mimetype": "text/x-python",
   "name": "python",
   "nbconvert_exporter": "python",
   "pygments_lexer": "ipython3",
   "version": "3.7.3"
  }
 },
 "nbformat": 4,
 "nbformat_minor": 5
}
