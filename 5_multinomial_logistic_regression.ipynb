{
 "cells": [
  {
   "cell_type": "markdown",
   "id": "e9dada13",
   "metadata": {},
   "source": [
    "###  Islands: Generalized Linear Models - Chapter 5\n",
    "\n",
    "[Back to Main Page](0_main_page.ipynb)\n",
    "\n",
    "<br>\n",
    "\n",
    "<h1> <center> Multinomial Logistic Regression </center> </h1>  \n",
    "\n",
    "<br>\n",
    "<center><img src = \"images/island_mul_log_reg.png\" width = 270></center>"
   ]
  },
  {
   "cell_type": "markdown",
   "id": "f6b0b9fe",
   "metadata": {},
   "source": [
    "Imagine you visting a new island, where you and a team of researchers are conducting social research about the three different religions that are practiced there. Your team is interested in the relationship between the following variables:\n",
    "\n",
    "`income`: a continuous numerical variable, indicating the annual income, in 1000s, of each participant\n",
    "\n",
    "`religion`: a nominal categorical variable, indicating group membership to one of three religions: `Communionism`, `Symmetrianity` or `Lamothianism`\n",
    "\n",
    "`biological_sex`: a binary nominal-categorical variable, indicating the the biological sex of each participant\n",
    "\n",
    "The data from a random sample of islanders is shown below:"
   ]
  },
  {
   "cell_type": "code",
   "execution_count": 1,
   "id": "12f695b1",
   "metadata": {
    "lines_to_next_cell": 0
   },
   "outputs": [
    {
     "data": {
      "text/html": [
       "<div>\n",
       "<style scoped>\n",
       "    .dataframe tbody tr th:only-of-type {\n",
       "        vertical-align: middle;\n",
       "    }\n",
       "\n",
       "    .dataframe tbody tr th {\n",
       "        vertical-align: top;\n",
       "    }\n",
       "\n",
       "    .dataframe thead th {\n",
       "        text-align: right;\n",
       "    }\n",
       "</style>\n",
       "<table border=\"1\" class=\"dataframe\">\n",
       "  <thead>\n",
       "    <tr style=\"text-align: right;\">\n",
       "      <th></th>\n",
       "      <th>income</th>\n",
       "      <th>religion</th>\n",
       "      <th>biological_sex</th>\n",
       "    </tr>\n",
       "  </thead>\n",
       "  <tbody>\n",
       "    <tr>\n",
       "      <th>0</th>\n",
       "      <td>106</td>\n",
       "      <td>Communionism</td>\n",
       "      <td>female</td>\n",
       "    </tr>\n",
       "    <tr>\n",
       "      <th>1</th>\n",
       "      <td>12</td>\n",
       "      <td>Symmetrianity</td>\n",
       "      <td>female</td>\n",
       "    </tr>\n",
       "    <tr>\n",
       "      <th>2</th>\n",
       "      <td>300</td>\n",
       "      <td>Lamothianism</td>\n",
       "      <td>female</td>\n",
       "    </tr>\n",
       "    <tr>\n",
       "      <th>3</th>\n",
       "      <td>65</td>\n",
       "      <td>Lamothianism</td>\n",
       "      <td>male</td>\n",
       "    </tr>\n",
       "    <tr>\n",
       "      <th>4</th>\n",
       "      <td>205</td>\n",
       "      <td>Lamothianism</td>\n",
       "      <td>female</td>\n",
       "    </tr>\n",
       "    <tr>\n",
       "      <th>...</th>\n",
       "      <td>...</td>\n",
       "      <td>...</td>\n",
       "      <td>...</td>\n",
       "    </tr>\n",
       "    <tr>\n",
       "      <th>95</th>\n",
       "      <td>107</td>\n",
       "      <td>Symmetrianity</td>\n",
       "      <td>female</td>\n",
       "    </tr>\n",
       "    <tr>\n",
       "      <th>96</th>\n",
       "      <td>106</td>\n",
       "      <td>Communionism</td>\n",
       "      <td>male</td>\n",
       "    </tr>\n",
       "    <tr>\n",
       "      <th>97</th>\n",
       "      <td>44</td>\n",
       "      <td>Communionism</td>\n",
       "      <td>male</td>\n",
       "    </tr>\n",
       "    <tr>\n",
       "      <th>98</th>\n",
       "      <td>74</td>\n",
       "      <td>Lamothianism</td>\n",
       "      <td>female</td>\n",
       "    </tr>\n",
       "    <tr>\n",
       "      <th>99</th>\n",
       "      <td>4</td>\n",
       "      <td>Communionism</td>\n",
       "      <td>female</td>\n",
       "    </tr>\n",
       "  </tbody>\n",
       "</table>\n",
       "<p>100 rows × 3 columns</p>\n",
       "</div>"
      ],
      "text/plain": [
       "    income       religion biological_sex\n",
       "0      106   Communionism         female\n",
       "1       12  Symmetrianity         female\n",
       "2      300   Lamothianism         female\n",
       "3       65   Lamothianism           male\n",
       "4      205   Lamothianism         female\n",
       "..     ...            ...            ...\n",
       "95     107  Symmetrianity         female\n",
       "96     106   Communionism           male\n",
       "97      44   Communionism           male\n",
       "98      74   Lamothianism         female\n",
       "99       4   Communionism         female\n",
       "\n",
       "[100 rows x 3 columns]"
      ]
     },
     "execution_count": 1,
     "metadata": {},
     "output_type": "execute_result"
    }
   ],
   "source": [
    "import numpy as np\n",
    "import pandas as pd\n",
    "import matplotlib.pyplot as plt\n",
    "import statsmodels.formula.api as smf\n",
    "from mpl_toolkits.mplot3d import axes3d\n",
    "import islands_GLM\n",
    "\n",
    "# make plots look like R!\n",
    "islands_GLM.r_ify()\n",
    "\n",
    "# generate the data for this page\n",
    "df = islands_GLM.data_gen_multinomial()\n",
    "\n",
    "# show the data\n",
    "df"
   ]
  },
  {
   "cell_type": "markdown",
   "id": "5e8d82a7",
   "metadata": {},
   "source": [
    "\n"
   ]
  },
  {
   "cell_type": "code",
   "execution_count": 2,
   "id": "03e2d0ef",
   "metadata": {},
   "outputs": [
    {
     "data": {
      "text/html": [
       "<div>\n",
       "<style scoped>\n",
       "    .dataframe tbody tr th:only-of-type {\n",
       "        vertical-align: middle;\n",
       "    }\n",
       "\n",
       "    .dataframe tbody tr th {\n",
       "        vertical-align: top;\n",
       "    }\n",
       "\n",
       "    .dataframe thead th {\n",
       "        text-align: right;\n",
       "    }\n",
       "</style>\n",
       "<table border=\"1\" class=\"dataframe\">\n",
       "  <thead>\n",
       "    <tr style=\"text-align: right;\">\n",
       "      <th></th>\n",
       "      <th>income</th>\n",
       "      <th>religion</th>\n",
       "      <th>biological_sex</th>\n",
       "      <th>religion_dummy</th>\n",
       "      <th>biological_sex_dummy</th>\n",
       "    </tr>\n",
       "  </thead>\n",
       "  <tbody>\n",
       "    <tr>\n",
       "      <th>0</th>\n",
       "      <td>106</td>\n",
       "      <td>Communionism</td>\n",
       "      <td>female</td>\n",
       "      <td>0</td>\n",
       "      <td>0</td>\n",
       "    </tr>\n",
       "    <tr>\n",
       "      <th>1</th>\n",
       "      <td>12</td>\n",
       "      <td>Symmetrianity</td>\n",
       "      <td>female</td>\n",
       "      <td>1</td>\n",
       "      <td>0</td>\n",
       "    </tr>\n",
       "    <tr>\n",
       "      <th>2</th>\n",
       "      <td>300</td>\n",
       "      <td>Lamothianism</td>\n",
       "      <td>female</td>\n",
       "      <td>2</td>\n",
       "      <td>0</td>\n",
       "    </tr>\n",
       "    <tr>\n",
       "      <th>3</th>\n",
       "      <td>65</td>\n",
       "      <td>Lamothianism</td>\n",
       "      <td>male</td>\n",
       "      <td>2</td>\n",
       "      <td>1</td>\n",
       "    </tr>\n",
       "    <tr>\n",
       "      <th>4</th>\n",
       "      <td>205</td>\n",
       "      <td>Lamothianism</td>\n",
       "      <td>female</td>\n",
       "      <td>2</td>\n",
       "      <td>0</td>\n",
       "    </tr>\n",
       "    <tr>\n",
       "      <th>...</th>\n",
       "      <td>...</td>\n",
       "      <td>...</td>\n",
       "      <td>...</td>\n",
       "      <td>...</td>\n",
       "      <td>...</td>\n",
       "    </tr>\n",
       "    <tr>\n",
       "      <th>95</th>\n",
       "      <td>107</td>\n",
       "      <td>Symmetrianity</td>\n",
       "      <td>female</td>\n",
       "      <td>1</td>\n",
       "      <td>0</td>\n",
       "    </tr>\n",
       "    <tr>\n",
       "      <th>96</th>\n",
       "      <td>106</td>\n",
       "      <td>Communionism</td>\n",
       "      <td>male</td>\n",
       "      <td>0</td>\n",
       "      <td>1</td>\n",
       "    </tr>\n",
       "    <tr>\n",
       "      <th>97</th>\n",
       "      <td>44</td>\n",
       "      <td>Communionism</td>\n",
       "      <td>male</td>\n",
       "      <td>0</td>\n",
       "      <td>1</td>\n",
       "    </tr>\n",
       "    <tr>\n",
       "      <th>98</th>\n",
       "      <td>74</td>\n",
       "      <td>Lamothianism</td>\n",
       "      <td>female</td>\n",
       "      <td>2</td>\n",
       "      <td>0</td>\n",
       "    </tr>\n",
       "    <tr>\n",
       "      <th>99</th>\n",
       "      <td>4</td>\n",
       "      <td>Communionism</td>\n",
       "      <td>female</td>\n",
       "      <td>0</td>\n",
       "      <td>0</td>\n",
       "    </tr>\n",
       "  </tbody>\n",
       "</table>\n",
       "<p>100 rows × 5 columns</p>\n",
       "</div>"
      ],
      "text/plain": [
       "    income       religion biological_sex  religion_dummy  biological_sex_dummy\n",
       "0      106   Communionism         female               0                     0\n",
       "1       12  Symmetrianity         female               1                     0\n",
       "2      300   Lamothianism         female               2                     0\n",
       "3       65   Lamothianism           male               2                     1\n",
       "4      205   Lamothianism         female               2                     0\n",
       "..     ...            ...            ...             ...                   ...\n",
       "95     107  Symmetrianity         female               1                     0\n",
       "96     106   Communionism           male               0                     1\n",
       "97      44   Communionism           male               0                     1\n",
       "98      74   Lamothianism         female               2                     0\n",
       "99       4   Communionism         female               0                     0\n",
       "\n",
       "[100 rows x 5 columns]"
      ]
     },
     "execution_count": 2,
     "metadata": {},
     "output_type": "execute_result"
    }
   ],
   "source": [
    "# generate dummy variables\n",
    "df['religion_dummy'] =  df['religion'].replace(['Communionism', 'Symmetrianity', 'Lamothianism'], [0, 1, 2])\n",
    "df['biological_sex_dummy'] =  df['biological_sex'].replace(['female', 'male'], [0, 1])\n",
    "\n",
    "# show the data\n",
    "df"
   ]
  },
  {
   "cell_type": "markdown",
   "id": "30a57b1e",
   "metadata": {},
   "source": [
    "## Context\n",
    "\n",
    "We use multinomial logistic regression when we are predicting a categorical variable with several categories.  As with all generalized linear models, the predictor variables can be of any type (quantitative-continuous, quantitative-discrete, nominal-categorical, ordinal-categorical).\n",
    "\n",
    "Multinomial logistic regression fits a logistic curve for each outcome category, where each curve shows the predicted probability of an observation falling into that category, given the a set of predictor scores. The image below shows \n"
   ]
  },
  {
   "cell_type": "code",
   "execution_count": 3,
   "id": "98cbd1bb",
   "metadata": {
    "scrolled": false
   },
   "outputs": [
    {
     "data": {
      "image/png": "[encoded data removed]",
      "text/plain": [
       "<Figure size 504x432 with 1 Axes>"
      ]
     },
     "metadata": {},
     "output_type": "display_data"
    }
   ],
   "source": [
    "islands_GLM.multinomial_illustration()"
   ]
  },
  {
   "cell_type": "markdown",
   "id": "4ec57da2",
   "metadata": {},
   "source": [
    "Let's assume the graph shows the probability of being in the outcome category dummy coded as 1, as the value of the predictor increases. \n",
    "\n",
    "For any value of the predictor, we can use the predicted probability of being in outcome category 1 to calculate the predicted probability of being in outcome category 0. We do this by subtracting the predicted probability of being in outcome category 1, from 1.\n",
    "\n",
    "We could then, for any value of the predictor, create a barplot of the predicted proportion of scores in either category, for a given value of the predictor. Around the middle of the S shaped curve just shown above, such a barplot might look like:\n",
    "\n",
    "![](images/multi_log_reg_bar.png)\n",
    "\n",
    "This is how binary logistic regression works from a 'conditional distribution' perspective: it fits a binomial distribution for every value of the predictor:\n",
    "\n",
    "![](images/multi_log_reg_conditional.png)"
   ]
  },
  {
   "cell_type": "markdown",
   "id": "d9616ee4",
   "metadata": {},
   "source": [
    "## Model\n",
    "\n",
    "[Interested in the probability of events in various categories]\n",
    "\n",
    "$ \\large \\hat{P}_{(y_{i} = 0)} = \\hat\\pi_{0i}$ \n",
    "\n",
    "$ \\large \\hat{P}_{(y_{i} = 1)} = \\hat\\pi_{1i} $\n",
    "\n",
    "$ \\dots $\n",
    "\n",
    "$ \\large \\hat{P}_{(y_{i} = ref)} = \\hat\\pi_{\\text{(r)}i} $\n",
    "[Show whole prediction equation]\n",
    "\n",
    "$ \\Large \\hat{y}_{i} = ln\\left(\\frac{Pr(Y=j)}{Pr(Y=\\text{Reference})}\\right)_{i} = b_{0}^{j} + b_{1}^{j}x_{1i} + ... b_{k}^{j}x_{ki}  $\n",
    "\n",
    "$ \\large \\hat{y}_{i} = ln \\left( \\frac{\\hat\\pi_{1}}{\\hat\\pi_{\\text{(r)}i}} \\right)_i = b_{0} + b_{i}x_{11} \\dots + b_{k}x_{ki} $\n",
    "\n",
    "The individual prediction ($\\hat{y_i}$), for all $n$ observations, using $k$ variables as predictors are:\n",
    "\n",
    "$$ \\large \\hat{y}_{1} = ln \\left( \\frac{\\hat\\pi_{1}}{\\hat\\pi_{\\text{(r)}i}} \\right)_1 = b_{0} + b_{1}x_{11} \\dots + b_{k}x_{k1} $$\n",
    "\n",
    "$$ \\large \\hat{y}_{2} = ln \\left( \\frac{\\hat\\pi_{1}}{\\hat\\pi_{\\text{(r)}i}} \\right)_2 = b_{0} + b_{1}x_{12} \\dots + b_{k}x_{k2} $$\n",
    "\n",
    "$$ \\large \\hat{y}_{3} = ln \\left( \\frac{\\hat\\pi_{1}}{\\hat\\pi_{\\text{(r)}i}} \\right)_3 = b_{0} + b_{1}x_{13} \\dots + b_{k}x_{k3} $$\n",
    "\n",
    "$$ \\dots $$\n",
    "\n",
    "$$ \\large \\hat{y}_{n} = ln \\left( \\frac{\\hat\\pi_{1}}{\\hat\\pi_{\\text{(r)}i}} \\right)_n = b_{0} + b_{1}x_{1n} \\dots + b_{k}x_{kn} $$\n",
    "\n",
    "[explanation of above formulas, element by element here]\n",
    "\n",
    "$$\n",
    "\\Large \\begin{bmatrix}\n",
    "           {\\hat{y}_{1}} \\\\\n",
    "           {\\hat{y}_{2}} \\\\\n",
    "           {\\hat{y}_{3}} \\\\\n",
    "           \\vdots \\\\\n",
    "           {\\hat{y}_{n}}\n",
    "         \\end{bmatrix} = \\begin{bmatrix}\n",
    "           {ln \\left( \\frac{\\hat\\pi_{1}}{\\hat\\pi_{\\text{(r)}i}} \\right)_1 } \\\\\n",
    "           {ln \\left( \\frac{\\hat\\pi_{1}}{\\hat\\pi_{\\text{(r)}i}} \\right)_2 } \\\\\n",
    "           {ln \\left( \\frac{\\hat\\pi_{1}}{\\hat\\pi_{\\text{(r)}i}} \\right)_3 }  \\\\\n",
    "           \\vdots \\\\\n",
    "           {\\ln \\left( \\frac{\\hat\\pi_{1}}{\\hat\\pi_{\\text{(r)}i}} \\right)_n}\n",
    "         \\end{bmatrix} = \\begin{bmatrix}\n",
    "           {1} & {x_{11}} & \\dots & {x_{k1}}\\\\ \n",
    "           {1} & {x_{12}} & \\dots & {x_{k2}}\\\\ \n",
    "           {1} & {x_{13}} & \\dots & {x_{k3}}\\\\ \n",
    "           \\vdots & \\vdots & \\vdots & \\vdots\\\\\n",
    "           {1} & {x_{1n}} & \\dots & {x_{kn}} \\\\ \n",
    "         \\end{bmatrix} \\begin{bmatrix}\n",
    "           {b_{0}} \\\\ \n",
    "           \\vdots \\\\\n",
    "           {b_{k}} \\\\ \n",
    "         \\end{bmatrix} \n",
    "$$\n"
   ]
  },
  {
   "cell_type": "markdown",
   "id": "41fdef93",
   "metadata": {},
   "source": [
    "## Parameter estimates\n",
    "\n",
    "The coefficients ($b_0, b_k$) can be estimated by...\n",
    "\n",
    "For a single score:\n",
    "\n",
    "[single score value here]\n",
    "\n",
    "[illustration of different types of normal distribution here]\n",
    "\n",
    "The predicted probability of falling into class $j$ for observation $i$:\n",
    "\n",
    "$ \\large \\hat\\pi_{ji} = \\frac{e^{\\hat{y_ji}}}{1 + e^{\\hat{y_{1}}} + ... e^{\\hat{y_{ji}}}}  = \\frac{e^{\\hat{y_ji}}}{1 + \\sum{e^{\\hat{y_{ji}}}}} $\n",
    "\n",
    "For the reference category:\n",
    "\n",
    "$ \\large \\hat\\pi_{\\text{(r)}i} = \\frac{1}{1 + \\sum{e^{\\hat{y_{ji}}}}} = 1 - \\sum \\hat\\pi_{ji} $\n",
    "\n",
    "The model gets its parameters, by maximizing:\n",
    "\n",
    "$ \\large {\\operatorname{arg max}} \\prod \\hat\\pi_{0i}^{\\text{indicator}_{0i}} \\hat\\pi_{1i}^{\\text{indicator}_{1i}} ...\\hat\\pi_{ji}^{\\text{indicator}_{ji}} $\n",
    "\n",
    "[illustration of fitting several normal distribution around the regression line here]\n",
    "\n",
    "\n",
    "Equivalently, by minimizing (has the same effect, but easier for a computer to work with):\n",
    "\n",
    "[full log like here (with all j), show that because of dummies it reduces to:]\n",
    "\n",
    "$ \\large {\\operatorname{arg min}} - \\sum \\text{indicator}_{ji} * \\large[ \\hat{y_{ji}}  - \\ln(1 + \\sum{e^{\\hat{y_{ji}}}} )\\large]$\n",
    "\n",
    "[Explain how this works at the level of individual predictions]"
   ]
  },
  {
   "cell_type": "markdown",
   "id": "190386e7",
   "metadata": {},
   "source": [
    "## Implementation"
   ]
  },
  {
   "cell_type": "code",
   "execution_count": 4,
   "id": "121cb455",
   "metadata": {},
   "outputs": [
    {
     "data": {
      "image/png": "[encoded data removed]",
      "text/plain": [
       "<Figure size 504x432 with 1 Axes>"
      ]
     },
     "metadata": {},
     "output_type": "display_data"
    }
   ],
   "source": [
    "islands_GLM.relig_scatter(df)"
   ]
  },
  {
   "cell_type": "code",
   "execution_count": 5,
   "id": "df3ed32c",
   "metadata": {},
   "outputs": [],
   "source": [
    "def mnlogit_cost(intercept_and_slope, x, y):\n",
    "\n",
    "    intercept_1, slope_1, intercept_2, slope_2, = intercept_and_slope\n",
    "    \n",
    "    predicted_log_odds_1 = intercept_1 + slope_1 * x\n",
    "    predicted_log_odds_2 = intercept_2 + slope_2 * x\n",
    "\n",
    "    y_dummies = pd.get_dummies(y)\n",
    "     \n",
    "    log_likelihood = np.sum(y_dummies[1].values * predicted_log_odds_1 + y_dummies[2].values * predicted_log_odds_2 - np.log(1 + np.exp(predicted_log_odds_1) +  np.exp(predicted_log_odds_2)))\n",
    "\n",
    "    return -log_likelihood"
   ]
  },
  {
   "cell_type": "code",
   "execution_count": 6,
   "id": "edab3bf8",
   "metadata": {},
   "outputs": [
    {
     "data": {
      "text/plain": [
       "337.63323390489114"
      ]
     },
     "execution_count": 6,
     "metadata": {},
     "output_type": "execute_result"
    }
   ],
   "source": [
    "mnlogit_cost([.1,.1,.1,.1], df['income'], df['religion_dummy'])"
   ]
  },
  {
   "cell_type": "code",
   "execution_count": null,
   "id": "ea86e2ef",
   "metadata": {},
   "outputs": [],
   "source": [
    "from scipy.optimize import minimize\n",
    "\n",
    "minimize(mnlogit_cost, [1,1,1,1], args =(df['income'], df['religion_dummy']), tol = 1e-16)"
   ]
  },
  {
   "cell_type": "code",
   "execution_count": null,
   "id": "f4c322d7",
   "metadata": {},
   "outputs": [],
   "source": [
    "mod = smf.mnlogit('religion_dummy ~ income', data = df).fit()\n",
    "\n",
    "mod.summary()"
   ]
  },
  {
   "cell_type": "code",
   "execution_count": null,
   "id": "a7425f8c",
   "metadata": {},
   "outputs": [],
   "source": [
    "islands_GLM.scatter_prob_subplots(mod, df)"
   ]
  },
  {
   "cell_type": "markdown",
   "id": "2e3b97c5",
   "metadata": {},
   "source": [
    "## Multi-predictor multionomial logistic regression"
   ]
  },
  {
   "cell_type": "code",
   "execution_count": null,
   "id": "2f5d5ea0",
   "metadata": {},
   "outputs": [],
   "source": [
    "# show how multinomial logistic regression works in multiple dimensions\n",
    "islands_GLM.multinomial_wireframe()"
   ]
  },
  {
   "cell_type": "code",
   "execution_count": null,
   "id": "6759225a",
   "metadata": {},
   "outputs": [],
   "source": [
    "mod = smf.mnlogit('religion_dummy ~ income + biological_sex_dummy', data = df).fit()\n",
    "\n",
    "mod.summary()"
   ]
  },
  {
   "cell_type": "code",
   "execution_count": null,
   "id": "8eb6681f",
   "metadata": {},
   "outputs": [],
   "source": [
    "intercept_1, income_slope_1, biological_sex_dummy_slope_1 = mod.params[0][:]\n",
    "intercept_2, income_slope_2, biological_sex_dummy_slope_2 = mod.params[1][:]\n",
    "islands_GLM.three_D_model_plot_multinomial('income', 'biological_sex_dummy', \n",
    "                   'religion_dummy', intercept_1, income_slope_1, biological_sex_dummy_slope_1, intercept_2, income_slope_2, biological_sex_dummy_slope_2,\n",
    "                  df)"
   ]
  },
  {
   "cell_type": "code",
   "execution_count": null,
   "id": "bf388a61",
   "metadata": {},
   "outputs": [],
   "source": [
    "# compare above to 2D plot\n",
    "islands_GLM.scatter_prob_subplots(mod, df)"
   ]
  },
  {
   "cell_type": "markdown",
   "id": "ccff488b",
   "metadata": {},
   "source": [
    "## Interpretation (multiple predictors)\n",
    "\n",
    "The coefficient of each predictor tells us the predicted difference in the outcome variable scores for two observations which differed *only* by a one unit score in that predictor. E.g. which had the same score on all other predictors.\n",
    "\n",
    "The intercept tells us the predicted score on the outcome variable for an observation whose score on all other predictors was 0. "
   ]
  },
  {
   "cell_type": "markdown",
   "id": "ba111fea",
   "metadata": {},
   "source": [
    "## Statistical interaction in Multinomial Logistic Regression"
   ]
  },
  {
   "cell_type": "code",
   "execution_count": null,
   "id": "d766afd3",
   "metadata": {},
   "outputs": [],
   "source": [
    "islands_GLM.bin_log_reg_plot(interaction = True)"
   ]
  },
  {
   "cell_type": "markdown",
   "id": "659c3db2",
   "metadata": {},
   "source": [
    "## Other Chapters\n",
    "\n",
    "1. [What are Generalized Linear Models?](1_generalized_linear_models.ipynb)\n",
    "2. [Linear Regression](2_linear_regression.ipynb)\n",
    "3. [Poisson Regression](3_poisson_regression.ipynb)\n",
    "4. [Binary Logistic Regression](4_binary_logistic_regression.ipynb)\n",
    "5. [Multinomial Logistic Regression](5_multinomial_logistic_regression.ipynb)"
   ]
  },
  {
   "cell_type": "markdown",
   "id": "d3e59b93",
   "metadata": {},
   "source": [
    "***\n",
    "By [pxr687](99_about_the_author.ipynb) "
   ]
  }
 ],
 "metadata": {
  "kernelspec": {
   "display_name": "Python 3 (ipykernel)",
   "language": "python",
   "name": "python3"
  },
  "language_info": {
   "codemirror_mode": {
    "name": "ipython",
    "version": 3
   },
   "file_extension": ".py",
   "mimetype": "text/x-python",
   "name": "python",
   "nbconvert_exporter": "python",
   "pygments_lexer": "ipython3",
   "version": "3.7.11"
  }
 },
 "nbformat": 4,
 "nbformat_minor": 5
}
