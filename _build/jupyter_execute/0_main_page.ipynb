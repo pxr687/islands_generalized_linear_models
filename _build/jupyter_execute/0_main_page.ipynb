{
 "cells": [
  {
   "cell_type": "markdown",
   "id": "0c5d1d35",
   "metadata": {},
   "source": [
    "<center> <h1> Islands - Generalized Linear Models </h1> </center>\n",
    "\n",
    "<br>\n",
    "\n",
    "```{image} images/main_page.jpg\n",
    ":class: bg-primary mb-1\n",
    ":width: 270px\n",
    ":align: center\n",
    "```\n",
    "\n",
    "<br>\n",
    "\n",
    "# Introduction\n",
    "\n",
    "This textbook is a short introduction to generalized linear models. Generalized linear models are a modelling framework which unifies $t$-tests, ANOVA, ANCOVA and multiple linear regression with other regression techniques like logistic regression and survival analysis. All generalized linear models can be expressed as:\n",
    "\n",
    "$$ \\Large f(\\mu_i) = b_0 + b_1x_{1i} + ... + b_kx_{ki} $$\n",
    "\n",
    "(Where there are $k$ predictor variables, and $n$ observations, with any individual observation denoted with $i$).\n",
    "\n",
    "The above equation reads as 'for each observation, some function of the the predicted value of the outcome variable is a linear function of the predictor variable scores'. For some generalized linear models (like linear regression) the linear prediction equation predicts the outcome variable directly, on its original scale. For others, like Poisson regression, the linear prediction equation models the outcome variable on some other scale (e.g. a logarithmic scale). \n",
    "\n",
    "This flexibility - stemming from the linear prediction equation being fit on different scales - allows for generalized linear models to be applied to a wide variety of outcome variables. The array of techniques that fall within the generalized linear modelling framework, and the variety of outcome variables they can be applied to, make generalized linear modelling an essential 'swiss army knife' tool for statistical modelling.\n",
    "\n",
    "\n",
    "# Who this book is for\n",
    "\n",
    "This book is intended for readers who have taken undergraduate statistics classes in social or life science and who want to understand how generalized linear models get their parameter estimates, in a way that goes beyond just interpretting tables from statistical software. \n",
    "\n",
    "My background is in psychology, so this book is written from an applied statistics perspective. However, this book delves slightly deeper into the mechanics of generalized linear models than some applied statistics textbooks that I have read. My focus is on how the models estimate their parameters, by minimizing their cost functions (analogous to minimizing the sum of the squared error in linear regression). This book:\n",
    "\n",
    "* Assumes familiarity with different types of variable (quantitative, nominal-categorical, ordinal-categorical)\n",
    "* Assumes familiarity with linear regression\n",
    "* Assumes the ability to read mathematical formulae\n",
    "* Assumes knowledge of logarithms and exponents\n",
    "* Knowledge of [python](https://www.python.org/) is helpful but not essential, as the examples are all generated using python code\n",
    "\n",
    "This book is written in the Jupyter notebook format. It contains text cells like the one you are reading, alongside code cells (like the one below) which also appear throughout this book. The code cells are used to run Python code, in order to generate the data and graphs for the examples. Anything in a code cell that comes after the `#` symbol is a *comment* and explains what the code is doing, but is not run by the computer as code:"
   ]
  },
  {
   "cell_type": "code",
   "execution_count": 1,
   "id": "ec3316ce",
   "metadata": {},
   "outputs": [
    {
     "name": "stdout",
     "output_type": "stream",
     "text": [
      "This is the output of a code cell.\n"
     ]
    }
   ],
   "source": [
    "# this is a code cell, this text you are reading is a comment. The code below tells this code cell to print some text\n",
    "print('This is the output of a code cell.')"
   ]
  },
  {
   "cell_type": "markdown",
   "id": "5cfdc855",
   "metadata": {},
   "source": [
    "If you want to use this textbook interactively, by running python code yourself, playing with the data/graphs etc. You can download all of the notebooks from: https://github.com/pxr687/islands_generalized_linear_models\n",
    "\n",
    "All the island maps were generated with: https://www.redblobgames.com/maps/mapgen4/"
   ]
  },
  {
   "cell_type": "markdown",
   "id": "bfdb8c74",
   "metadata": {},
   "source": [
    "***\n",
    "By [pxr687](99_about_the_author.ipynb) "
   ]
  }
 ],
 "metadata": {
  "kernelspec": {
   "display_name": "Python 3 (ipykernel)",
   "language": "python",
   "name": "python3"
  },
  "language_info": {
   "codemirror_mode": {
    "name": "ipython",
    "version": 3
   },
   "file_extension": ".py",
   "mimetype": "text/x-python",
   "name": "python",
   "nbconvert_exporter": "python",
   "pygments_lexer": "ipython3",
   "version": "3.7.11"
  }
 },
 "nbformat": 4,
 "nbformat_minor": 5
}