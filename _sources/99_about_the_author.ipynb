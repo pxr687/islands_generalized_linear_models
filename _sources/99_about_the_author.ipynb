{
 "cells": [
  {
   "cell_type": "markdown",
   "id": "7f2ecc15",
   "metadata": {},
   "source": [
    "# About the author\n",
    "\n",
    "I am a Research Associate and Graduate Teaching Assistant (in Data Science) at the School of Psychology, University of Birmingham, UK. \n",
    "\n",
    "If you find any errors in this textbook, please let me know: [pxr687@bham.ac.uk](mailto:pxr687@bham.ac.uk)"
   ]
  }
 ],
 "metadata": {
  "kernelspec": {
   "display_name": "Python 3 (ipykernel)",
   "language": "python",
   "name": "python3"
  },
  "language_info": {
   "codemirror_mode": {
    "name": "ipython",
    "version": 3
   },
   "file_extension": ".py",
   "mimetype": "text/x-python",
   "name": "python",
   "nbconvert_exporter": "python",
   "pygments_lexer": "ipython3",
   "version": "3.7.11"
  }
 },
 "nbformat": 4,
 "nbformat_minor": 5
}
