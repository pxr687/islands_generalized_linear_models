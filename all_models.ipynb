{
 "cells": [
  {
   "cell_type": "markdown",
   "metadata": {},
   "source": [
    "<b>Linear regression:</b> $ \\Large  \\hat{y}_{i}  = \\mu_{i} = b_{0} + b_{1}x_{1i} + ... b_{k}x_{ki} $\n",
    "<br>\n",
    "<br>\n",
    "<b>Poisson regression: </b> $ \\Large  \\hat{y}_{i} = ln(\\mu_{i}) = b_{0} + b_{1}x_{1i} + ... b_{k}x_{ki}  $\n",
    "<br>\n",
    "<br>\n",
    "<b> Binomial logistic regression: </b> $ \\Large \\hat{y}_{i} = ln\\left(\\frac{Pr(Y=1)}{1 - Pr(Y=1)}\\right)_{i} = b_{0} + b_{1}x_{1i} + ... b_{k}x_{ki}  $\n",
    "<br>\n",
    "<br>\n",
    "<b> Multinomial logistic regression: </b> $ \\Large \\hat{y}_{i} = ln\\left(\\frac{Pr(Y=j)}{Pr(Y=\\text{Reference})}\\right)_{i} = b_{0}^{j} + b_{1}^{j}x_{1i} + ... b_{k}^{j}x_{ki}  $"
   ]
  },
  {
   "cell_type": "code",
   "execution_count": null,
   "metadata": {},
   "outputs": [],
   "source": []
  }
 ],
 "metadata": {
  "kernelspec": {
   "display_name": "Python 3",
   "language": "python",
   "name": "python3"
  },
  "language_info": {
   "codemirror_mode": {
    "name": "ipython",
    "version": 3
   },
   "file_extension": ".py",
   "mimetype": "text/x-python",
   "name": "python",
   "nbconvert_exporter": "python",
   "pygments_lexer": "ipython3",
   "version": "3.7.3"
  }
 },
 "nbformat": 4,
 "nbformat_minor": 5
}
