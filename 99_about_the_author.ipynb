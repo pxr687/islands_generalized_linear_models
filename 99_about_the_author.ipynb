{
 "cells": [
  {
   "cell_type": "markdown",
   "id": "87c6cb70",
   "metadata": {},
   "source": [
    "[Back to Main Page](0_main_page.ipynb)\n",
    "\n",
    "# About the author\n",
    "\n",
    "I am a Research Associate and Graduate Teaching Assistant (in Data Science) at the School of Psychology, University of Birmingham, UK. \n",
    "\n",
    "If you find any errors in this textbook, please let me know: pxr687@bham.ac.uk"
   ]
  },
  {
   "cell_type": "markdown",
   "id": "11d0d480",
   "metadata": {},
   "source": [
    "## Chapters\n",
    "\n",
    "1. [What are Generalized Linear Models?](1_generalized_linear_models.ipynb)\n",
    "2. [Linear Regression](2_linear_regression.ipynb)\n",
    "3. [Poisson Regression](3_poisson_regression.ipynb)\n",
    "4. [Binary Logistic Regression](4_binary_logistic_regression.ipynb)\n",
    "5. [Multinomial Logistic Regression](5_multinomial_logistic_regression.ipynb)"
   ]
  }
 ],
 "metadata": {
  "kernelspec": {
   "display_name": "Python 3 (ipykernel)",
   "language": "python",
   "name": "python3"
  },
  "language_info": {
   "codemirror_mode": {
    "name": "ipython",
    "version": 3
   },
   "file_extension": ".py",
   "mimetype": "text/x-python",
   "name": "python",
   "nbconvert_exporter": "python",
   "pygments_lexer": "ipython3",
   "version": "3.7.11"
  }
 },
 "nbformat": 4,
 "nbformat_minor": 5
}
