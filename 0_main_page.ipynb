{
 "cells": [
  {
   "cell_type": "markdown",
   "metadata": {},
   "source": [
    "<h1> <center> Islands: Generalized Linear Models</center> </h1>\n",
    "\n",
    "<br>\n",
    "<center><img src = \"images/islands_main.png\" width = 270></center>\n",
    "\n",
    "\n",
    "By [pxr687](99_about_the_author.ipynb) "
   ]
  },
  {
   "cell_type": "markdown",
   "metadata": {},
   "source": [
    "## Contents\n",
    "\n",
    "1. [What are Generalized Linear Models?](1_generalized_linear_models.ipynb)\n",
    "2. [Linear Regression](2_linear_regression.ipynb)\n",
    "3. [Poisson Regression](3_poisson_regression.ipynb)\n",
    "4. [Binary Logistic Regression](4_binary_logistic_regression.ipynb)\n",
    "5. [Multinomial Logistic Regression](5_multinomial_logistic_regression.ipynb)\n",
    "\n",
    "## Who this book is for\n",
    "\n",
    "This book is for anyone who wants to \n",
    "\n",
    "* Assumes familiarity with different types of variable\n",
    "* Assumes familiarity with linear regression\n",
    "* Assumes ability to read mathematical formulae\n",
    "* Assumes knowledge of logarithms and exponents\n",
    "* Python knowledge is helpful "
   ]
  }
 ],
 "metadata": {
  "kernelspec": {
   "display_name": "Python 3",
   "language": "python",
   "name": "python3"
  },
  "language_info": {
   "codemirror_mode": {
    "name": "ipython",
    "version": 3
   },
   "file_extension": ".py",
   "mimetype": "text/x-python",
   "name": "python",
   "nbconvert_exporter": "python",
   "pygments_lexer": "ipython3",
   "version": "3.7.3"
  }
 },
 "nbformat": 4,
 "nbformat_minor": 5
}
