{
 "cells": [
  {
   "cell_type": "markdown",
   "metadata": {},
   "source": [
    "<h1> <center> Islands: Generalized Linear Models</center> </h1>\n",
    "\n",
    "<br>\n",
    "<center><img src = \"https://raw.githubusercontent.com/pxr687/GLM/main/images/islands_main.png?token=GHSAT0AAAAAABQOXRN5JK2LV6TCQ6JCW7RMYO5MFKQ\" width = 270></center>\n",
    "\n",
    "\n",
    "By [pxr687](99_about_the_author.ipynb) "
   ]
  },
  {
   "cell_type": "markdown",
   "metadata": {},
   "source": [
    "## Contents\n",
    "\n",
    "1. [What is Statistical Modelling?]()\n",
    "2. [Linear Regression]()\n",
    "3. [Poisson Regression]()\n",
    "4. [Binary Logistic Regression]()\n",
    "5. [Multinomial Logistic Regression]()\n",
    "\n",
    "\n",
    "## Who this book is for\n",
    "This book is for anyone who...\n",
    "\n",
    "* Assumes familiarity with linear regression\n",
    "* Assumes ability to read mathematical formulae\n",
    "* Assumes knowledge of logarithms and exponents"
   ]
  }
 ],
 "metadata": {
  "kernelspec": {
   "display_name": "Python 3",
   "language": "python",
   "name": "python3"
  },
  "language_info": {
   "codemirror_mode": {
    "name": "ipython",
    "version": 3
   },
   "file_extension": ".py",
   "mimetype": "text/x-python",
   "name": "python",
   "nbconvert_exporter": "python",
   "pygments_lexer": "ipython3",
   "version": "3.7.3"
  }
 },
 "nbformat": 4,
 "nbformat_minor": 5
}
