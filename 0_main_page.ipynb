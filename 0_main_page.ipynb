{
 "cells": [
  {
   "cell_type": "markdown",
   "metadata": {},
   "source": [
    "<h1> <center> Islands: Generalized Linear Models</center> </h1>\n",
    "\n",
    "<br>\n",
    "<center><img src = \"images/islands_main.png\" width = 270></center>\n",
    "\n",
    "\n",
    "By [pxr687](99_about_the_author.ipynb) "
   ]
  },
  {
   "cell_type": "markdown",
   "metadata": {},
   "source": [
    "## Contents\n",
    "\n",
    "1. [What are Generalized Linear Models?](1_generalized_linear_models.ipynb)\n",
    "2. [Linear Regression](2_linear_regression.ipynb)\n",
    "3. [Poisson Regression](3_poisson_regression.ipynb)\n",
    "4. [Binary Logistic Regression](4_binary_logistic_regression.ipynb)\n",
    "5. [Multinomial Logistic Regression](5_multinomial_logistic_regression.ipynb)\n",
    "\n",
    "## Who this book is for\n",
    "\n",
    "This book is for anyone who has taken undergraduate statistics classes in social or life science who wants to undertand how generalized linear models get their parameter estimates. My background is in psychology, hence why this book is written from an applied statistics perspective. However, I wanted to go slightly deeper into the mechanics of generalized linear models than many applied statistics textbooks that I have read. My focus is on how the models estimate their parameters, by minimizing their cost functions (analogous to minimizing the sum of the squared error in linear regression). This book:\n",
    "\n",
    "* Assumes familiarity with different types of variable (quantitative, nominal-categorical, ordinal-categorical)\n",
    "* Assumes familiarity with linear regression\n",
    "* Assumes the ability to read mathematical formulae\n",
    "* Assumes knowledge of logarithms and exponents\n",
    "* Knowledge of Python is helpful but not essential, as the examples are all generated using python code\n",
    "\n",
    "This book is written in the Jupyter notebook format. It contains text cells like the one you are reading, alongside code cells (like the one below) which also appear throughout this book. The code cells are used to run Python code, in order to generate the data and graphs for the examples:"
   ]
  },
  {
   "cell_type": "code",
   "execution_count": 1,
   "metadata": {},
   "outputs": [
    {
     "name": "stdout",
     "output_type": "stream",
     "text": [
      "This is the output of a code cell.\n"
     ]
    }
   ],
   "source": [
    "# this is a code cell\n",
    "print('This is the output of a code cell.')"
   ]
  },
  {
   "cell_type": "markdown",
   "metadata": {},
   "source": [
    "If you want to use this textbook interactively, bu running python code yourself, playing with the data/graphs etc. You can download all of the notebooks from: https://github.com/pxr687/islands_generalized_linear_models"
   ]
  }
 ],
 "metadata": {
  "kernelspec": {
   "display_name": "Python 3",
   "language": "python",
   "name": "python3"
  },
  "language_info": {
   "codemirror_mode": {
    "name": "ipython",
    "version": 3
   },
   "file_extension": ".py",
   "mimetype": "text/x-python",
   "name": "python",
   "nbconvert_exporter": "python",
   "pygments_lexer": "ipython3",
   "version": "3.7.3"
  }
 },
 "nbformat": 4,
 "nbformat_minor": 5
}
