{
 "cells": [
  {
   "cell_type": "markdown",
   "id": "touched-differential",
   "metadata": {},
   "source": [
    "# Multinomial Logistic Regression\n",
    "\n",
    "[EXPLANATION OF WHY WE CAN'T USE LINEAR REGRESSION]\n",
    "\n",
    "[EXPLANATION OF THE FORM OF THE GENERALIZED LINEAR MODEL, E.G. WE FIND A LINK FUNCTION THAT TRANSFORMS THE MEAN OF THE OUTCOME SO THAT WE CAN USE A LINEAR EQUATION TO MODEL HOW THE MEAN CHANGES AS A FUNCTION OF THE PREDICTOR]"
   ]
  },
  {
   "cell_type": "code",
   "execution_count": 12,
   "id": "controlling-lying",
   "metadata": {},
   "outputs": [],
   "source": [
    "import numpy as np\n",
    "import pandas as pd\n",
    "import matplotlib.pyplot as plt\n",
    "import statsmodels.api as sm\n",
    "\n",
    "# religion names from https://www.fantasynamegenerators.com/religion-names.php\n",
    "\n",
    "np.random.seed(1000)\n",
    "\n",
    "pop_size = 100\n",
    "\n",
    "view = np.array(['low_tax', 'medium_tax', 'high_tax'])\n",
    "\n",
    "income = np.random.gamma(1, size = pop_size) * 100\n",
    "\n",
    "views = np.array([])\n",
    "\n",
    "for inc in income:\n",
    "    \n",
    "    if inc < np.median(income):\n",
    "        \n",
    "        views = np.append(views, np.random.choice(view , \n",
    "                                                       p = [0.5/6, 2/6, 3.5/6]))\n",
    "        \n",
    "    elif inc >= np.median(income):\n",
    "        \n",
    "        views = np.append(views, np.random.choice(view , \n",
    "                                                       p = [3.5/6, 2.4/6, 0.1/6]))\n",
    "        \n",
    "        \n",
    "df = pd.DataFrame({'income': income.astype('int'), 'tax_view': views})\n",
    "\n",
    "df"
   ]
  },
  {
   "cell_type": "markdown",
   "id": "occasional-closing",
   "metadata": {},
   "source": [
    "[SHOW WHY WE DON'T USE LINEAR REGRESSION AS PER TEXTBOOK PAGE WITH MATTHEW]"
   ]
  },
  {
   "cell_type": "code",
   "execution_count": 2,
   "id": "infinite-pension",
   "metadata": {},
   "outputs": [
    {
     "data": {
      "text/plain": [
       "array(['low_tax', 'high_tax', 'medium_tax'], dtype=object)"
      ]
     },
     "execution_count": 2,
     "metadata": {},
     "output_type": "execute_result"
    }
   ],
   "source": [
    "df['tax_view'].unique()"
   ]
  },
  {
   "cell_type": "code",
   "execution_count": 3,
   "id": "mental-fourth",
   "metadata": {},
   "outputs": [
    {
     "data": {
      "text/html": [
       "<div>\n",
       "<style scoped>\n",
       "    .dataframe tbody tr th:only-of-type {\n",
       "        vertical-align: middle;\n",
       "    }\n",
       "\n",
       "    .dataframe tbody tr th {\n",
       "        vertical-align: top;\n",
       "    }\n",
       "\n",
       "    .dataframe thead th {\n",
       "        text-align: right;\n",
       "    }\n",
       "</style>\n",
       "<table border=\"1\" class=\"dataframe\">\n",
       "  <thead>\n",
       "    <tr style=\"text-align: right;\">\n",
       "      <th></th>\n",
       "      <th>income</th>\n",
       "      <th>tax_view</th>\n",
       "      <th>tax_view_dummy</th>\n",
       "    </tr>\n",
       "  </thead>\n",
       "  <tbody>\n",
       "    <tr>\n",
       "      <th>0</th>\n",
       "      <td>106</td>\n",
       "      <td>low_tax</td>\n",
       "      <td>0</td>\n",
       "    </tr>\n",
       "    <tr>\n",
       "      <th>1</th>\n",
       "      <td>12</td>\n",
       "      <td>high_tax</td>\n",
       "      <td>1</td>\n",
       "    </tr>\n",
       "    <tr>\n",
       "      <th>2</th>\n",
       "      <td>300</td>\n",
       "      <td>low_tax</td>\n",
       "      <td>0</td>\n",
       "    </tr>\n",
       "    <tr>\n",
       "      <th>3</th>\n",
       "      <td>65</td>\n",
       "      <td>medium_tax</td>\n",
       "      <td>2</td>\n",
       "    </tr>\n",
       "    <tr>\n",
       "      <th>4</th>\n",
       "      <td>205</td>\n",
       "      <td>medium_tax</td>\n",
       "      <td>2</td>\n",
       "    </tr>\n",
       "    <tr>\n",
       "      <th>...</th>\n",
       "      <td>...</td>\n",
       "      <td>...</td>\n",
       "      <td>...</td>\n",
       "    </tr>\n",
       "    <tr>\n",
       "      <th>95</th>\n",
       "      <td>107</td>\n",
       "      <td>medium_tax</td>\n",
       "      <td>2</td>\n",
       "    </tr>\n",
       "    <tr>\n",
       "      <th>96</th>\n",
       "      <td>106</td>\n",
       "      <td>low_tax</td>\n",
       "      <td>0</td>\n",
       "    </tr>\n",
       "    <tr>\n",
       "      <th>97</th>\n",
       "      <td>44</td>\n",
       "      <td>medium_tax</td>\n",
       "      <td>2</td>\n",
       "    </tr>\n",
       "    <tr>\n",
       "      <th>98</th>\n",
       "      <td>74</td>\n",
       "      <td>medium_tax</td>\n",
       "      <td>2</td>\n",
       "    </tr>\n",
       "    <tr>\n",
       "      <th>99</th>\n",
       "      <td>4</td>\n",
       "      <td>medium_tax</td>\n",
       "      <td>2</td>\n",
       "    </tr>\n",
       "  </tbody>\n",
       "</table>\n",
       "<p>100 rows × 3 columns</p>\n",
       "</div>"
      ],
      "text/plain": [
       "    income    tax_view  tax_view_dummy\n",
       "0      106     low_tax               0\n",
       "1       12    high_tax               1\n",
       "2      300     low_tax               0\n",
       "3       65  medium_tax               2\n",
       "4      205  medium_tax               2\n",
       "..     ...         ...             ...\n",
       "95     107  medium_tax               2\n",
       "96     106     low_tax               0\n",
       "97      44  medium_tax               2\n",
       "98      74  medium_tax               2\n",
       "99       4  medium_tax               2\n",
       "\n",
       "[100 rows x 3 columns]"
      ]
     },
     "execution_count": 3,
     "metadata": {},
     "output_type": "execute_result"
    }
   ],
   "source": [
    "df['tax_view_dummy'] =  df['tax_view'].replace(df['tax_view'].unique(), np.arange(len(df['tax_view'].unique())))\n",
    "\n",
    "df"
   ]
  },
  {
   "cell_type": "code",
   "execution_count": 4,
   "id": "thick-runner",
   "metadata": {},
   "outputs": [
    {
     "data": {
      "image/png": "[encoded data removed]",
      "text/plain": [
       "<Figure size 432x288 with 1 Axes>"
      ]
     },
     "metadata": {
      "needs_background": "light"
     },
     "output_type": "display_data"
    }
   ],
   "source": [
    "tax_view_color = {0: 'darkblue',\n",
    "              1: 'darkred',\n",
    "              2: 'darkgreen'}\n",
    "\n",
    "fig, ax = plt.subplots()\n",
    "ax.scatter(df['income'], df['tax_view_dummy'] , c = df['tax_view_dummy'].map(tax_view_color))\n",
    "ax.set_yticks([0,1,2])\n",
    "ax.set_ylabel('Taxation View Dummy')\n",
    "ax.set_xlabel('Income')\n",
    "ax.scatter([], [], color = 'darkblue', label = view[0] )\n",
    "ax.scatter([], [],  color = 'darkred', label = view[1])\n",
    "ax.scatter([], [],  color = 'darkgreen', label = view[2])\n",
    "plt.legend(bbox_to_anchor = (1.01,1.025))\n",
    "plt.show()"
   ]
  },
  {
   "cell_type": "markdown",
   "id": "23dbe5ac",
   "metadata": {},
   "source": [
    "lin_reg = sm.OLS(df['tax_view_dummy'], sm.add_constant(df['income'])).fit()\n",
    "\n",
    "lin_reg_predict = lin_reg.params[0] + lin_reg.params[1] * df['income']\n",
    "\n",
    "fig, ax = plt.subplots()\n",
    "ax.scatter(df['income'], df['religion_dummy'] , c = df['religion_dummy'].map(relig_color))\n",
    "ax.set_yticks([0,1,2])\n",
    "ax.set_ylabel('Religion Dummy')\n",
    "ax.set_xlabel('Income')\n",
    "ax.scatter([], [], color = 'darkblue', label = 'Children of the Titans' )\n",
    "ax.scatter([], [],  color = 'darkred', label = 'Communion of the Sacrifice')\n",
    "ax.scatter([], [],  color = 'darkgreen', label = 'Healers of Symmetry')\n",
    "plt.scatter(df['income'], lin_reg_predict, color = 'gold', label = 'Linear Regression Predictions')\n",
    "plt.legend(bbox_to_anchor = (1.01,1.025))\n",
    "plt.show()"
   ]
  },
  {
   "cell_type": "markdown",
   "id": "greater-reverse",
   "metadata": {},
   "source": [
    "# How the model works\n",
    "\n",
    "The abstract model:\n",
    "\n",
    "$$\n",
    "\\begin{bmatrix}\n",
    "           {\\hat{y_{j0}}} \\\\\n",
    "           {\\hat{y_{j1}}} \\\\\n",
    "            {\\hat{y_{j2}}}  \\\\\n",
    "           \\vdots \\\\\n",
    "           { {\\hat{y_{jn}}} }\n",
    "         \\end{bmatrix} =\n",
    "\\begin{bmatrix}\n",
    "           {\\text{predicted log odds of being in category } j \\text{ for person 0}} \\\\\n",
    "           {\\text{predicted log odds of being in category } j \\text{ for person 1}} \\\\\n",
    "           {\\text{predicted log odds of being in category } j \\text{  for person 2}} \\\\\n",
    "           \\vdots \\\\\n",
    "           {\\text{predicted log odds of being in category } j \\text{  for person } n}\n",
    "         \\end{bmatrix} = b^{j}_{0} + b^{j}_{1} *\\begin{bmatrix}\n",
    "           {\\text{income of person 0}} \\\\\n",
    "           {\\text{income of person 1}} \\\\\n",
    "           {\\text{income of person 2 }} \\\\\n",
    "           \\vdots \\\\\n",
    "           {\\text{income of person } n }\n",
    "         \\end{bmatrix}\n",
    "$$\n",
    "\n",
    "$  \\hat{y}_{ji} = \\ln\\left(\\frac{\\text{Pr(being part of category} j)}{\\text{Pr(being part of the reference category}j^{*})}\\right)_{i} = b^{j}_{0} + b^{j}_{1} * \\text{income}_{i}$\n",
    "\n",
    "\n",
    "In our current example, using 'Children of the Titans' as the reference category:\n",
    "\n",
    "$ \\hat{y}^{\\text{communion}}_{i} = \\ln\\left(\\frac{\\text{Pr(being part of Communion of the Sacrifice)}}{\\text{Pr(being part of Children of the Titans)}}\\right)_{i} = b_{0}^{communion} + b^{communion}_{1} * \\text{income}_{i}$\n",
    "\n",
    "\n",
    "$ \\hat{y}^{\\text{healers}}_{i} =\\ln\\left(\\frac{\\text{Pr(being part of Healers of Symmetry)}}{\\text{Pr(being part of Children of the Titans)}}\\right)_{i} = b_{0}^{healers} + b_{1}^{healers} * \\text{income}_{i}$\n",
    "\n",
    "\n",
    "If we exponentiate the log odds (i.e. raise them to the power of $e$) this will give us the predicted odds. Then, using the following conversion formula we can calculate the predicted probability of falling into a particular category as:\n",
    "\n",
    "$ \\pi_{ji} = \\text{probability of being in category}j \\text{ for person }i = \\frac{\\text{odds of being in category}j\\text{ for person }i}{1 + \\sum{\\text{odds of being in all categories apart from the reference category for person }i}} = \\frac{e^{\\hat{y_{ji}}}}{1 + \\sum{e^{\\hat{y_{ji}}}}}$\n",
    "\n",
    "\n",
    "To get the parameters we need to create indicator variables for each level of the outcome variable:"
   ]
  },
  {
   "cell_type": "code",
   "execution_count": 5,
   "id": "driving-confidentiality",
   "metadata": {},
   "outputs": [],
   "source": [
    "low_dummy = df['tax_view_dummy'] <= 0\n",
    "medium_dummy = df['tax_view_dummy'] <= 1"
   ]
  },
  {
   "cell_type": "markdown",
   "id": "taken-gospel",
   "metadata": {},
   "source": [
    "We then find the parameters which give the maximum value of:\n",
    "\n",
    "$ {\\operatorname{arg max}} \\prod \\pi_{0i}^{\\text{indicator}_{0i}} \\pi_{1i}^{\\text{indicator}_{1i}} ...\\pi_{ji}^{\\text{indicator}_{ji}} $\n",
    "\n",
    "The above equation is hard for a computer to deal with. Essentially, it is multiplying fractions by fractions, over and over, which results in very small numbers. These can get so small that they get hard for a computer to represent.\n",
    "\n",
    "To solve this problem, most software - instead of *maximizing the likelihood* - in fact *minimizes the negative log-likeihood*. The negative log-likehood function for the multinomial logistic regression model is:\n",
    "\n",
    "$ {\\operatorname{arg min}} \\sum \\text{indicator}_{0i} * \\hat{y_{0i}} + ... \\text{indicator}_{ji} * \\hat{y_{ji}}  - \\ln(1 + \\sum{e^{\\hat{y_{ji}}}})$\n",
    "\n",
    "# The whole model\n",
    "\n",
    "All predicted odds are relative to the reference category $j^{*}$. [Explain this, e.g. if there are three categories and the first is the reference...]\n",
    "\n",
    "$$\n",
    "\\begin{bmatrix}\n",
    "           {\\hat{y_{j0}}} \\\\\n",
    "           {\\hat{y_{j1}}} \\\\\n",
    "            {\\hat{y_{j2}}}  \\\\\n",
    "           \\vdots \\\\\n",
    "           { {\\hat{y_{jn}}} }\n",
    "         \\end{bmatrix} =\n",
    "\\begin{bmatrix}\n",
    "           {\\text{predicted log odds of being in category } j \\text{ for person 0}} \\\\\n",
    "           {\\text{predicted log odds of being in category } j \\text{ for person 1}} \\\\\n",
    "           {\\text{predicted log odds of being in category } j \\text{  for person 2}} \\\\\n",
    "           \\vdots \\\\\n",
    "           {\\text{predicted log odds of being in category } j \\text{  for person } n}\n",
    "         \\end{bmatrix} = b^{j}_{0} + b^{j}_{1} *\\begin{bmatrix}\n",
    "           {\\text{predictor score for person 0}} \\\\\n",
    "           {\\text{predictor score for person 1}} \\\\\n",
    "           {\\text{predictor score for person 2 }} \\\\\n",
    "           \\vdots \\\\\n",
    "           {\\text{predictor score for  person } n }\n",
    "         \\end{bmatrix}\n",
    "$$\n",
    "\n",
    "This can be written more compactly as (for person $i$):\n",
    "\n",
    "$  \\hat{y}_{ji} = \\ln\\left(\\frac{\\text{Pr(being part of category} j)}{\\text{Pr(being part of the reference category}j^{*})}\\right)_{i} = b^{j}_{0} + b^{j}_{1} * \\text{predictor score}_{i}$\n",
    "\n",
    "We can convert the predicted log odds ratios to probabilities:\n",
    "\n",
    "$ \\pi_{ji} = \\text{probability of being in category}j \\text{ for person }i = \\frac{\\text{odds of being in category}j\\text{ for person }i}{1 + \\sum{\\text{odds of being in all categories apart from the reference category for person }i}} = \\frac{e^{\\hat{y_{ji}}}}{1 + \\sum{e^{\\hat{y_{ji}}}}}$\n",
    "\n",
    "Conceptually, we get the maximum likelihood parameter estimates from:\n",
    "\n",
    "$ {\\operatorname{arg max}} \\prod \\pi_{0i}^{\\text{indicator}_{0i}} \\pi_{1i}^{\\text{indicator}_{1i}} ...\\pi_{ji}^{\\text{indicator}_{ji}} $\n",
    "\n",
    "In practice, we get the actual regression parameter estimates from:\n",
    "\n",
    "$ {\\operatorname{arg min}} \\sum -\\left(\\text{indicator}_{ji} * \\hat{y_{ji}}  - \\ln(1 + \\sum{e^{\\hat{y_{ji}}}})\\right)$\n",
    "\n",
    "\n",
    "\n",
    "                                           "
   ]
  },
  {
   "cell_type": "code",
   "execution_count": 6,
   "id": "sunset-basketball",
   "metadata": {},
   "outputs": [],
   "source": [
    "def pologit_cost(intercept_and_slope, x, y, y_dummies):\n",
    "\n",
    "    intercept_1, intercept_2, slope_1, = intercept_and_slope\n",
    "    \n",
    "    predicted_log_odds_1 = intercept_1 + slope_1 * x\n",
    "    predicted_log_odds_2 = intercept_2 + slope_1 * x\n",
    "    \n",
    "    p_1 = np.exp(predicted_log_odds_1)/(1 + np.exp(predicted_log_odds_1))\n",
    "    \n",
    "    p_2 = np.exp(predicted_log_odds_2)/(1 + np.exp(predicted_log_odds_2))\n",
    "    \n",
    "     \n",
    "    log_likelihood = np.sum(y_dummies[0].values * np.log(p_1) + y_dummies[1].values * np.log(p_2))\n",
    "\n",
    "    return -log_likelihood"
   ]
  },
  {
   "cell_type": "code",
   "execution_count": 7,
   "id": "broad-myanmar",
   "metadata": {},
   "outputs": [
    {
     "data": {
      "text/plain": [
       "5.876013590976172"
      ]
     },
     "execution_count": 7,
     "metadata": {},
     "output_type": "execute_result"
    }
   ],
   "source": [
    "pologit_cost([.1,.1,.1], df['income'], df['tax_view_dummy'], [low_dummy, medium_dummy])"
   ]
  },
  {
   "cell_type": "code",
   "execution_count": 8,
   "id": "advanced-cooling",
   "metadata": {},
   "outputs": [
    {
     "data": {
      "text/plain": [
       "      fun: 3.970185963158787e-09\n",
       " hess_inv: array([[ 1.69471730e+08,  1.91213733e+08, -5.39508598e+06],\n",
       "       [ 1.91213733e+08,  2.15745081e+08, -6.08723676e+06],\n",
       "       [-5.39508598e+06, -6.08723676e+06,  1.71751106e+05]])\n",
       "      jac: array([ 0.0000000e+00,  0.0000000e+00, -7.4505806e-09])\n",
       "  message: 'Desired error not necessarily achieved due to precision loss.'\n",
       "     nfev: 427\n",
       "      nit: 28\n",
       "     njev: 83\n",
       "   status: 2\n",
       "  success: False\n",
       "        x: array([19.04086622, 21.68708238,  0.49872827])"
      ]
     },
     "execution_count": 8,
     "metadata": {},
     "output_type": "execute_result"
    }
   ],
   "source": [
    "from scipy.optimize import minimize\n",
    "\n",
    "minimize(pologit_cost, [.1,.1,.1], args =( df['income'], df['tax_view_dummy'], [low_dummy, medium_dummy]), tol = 1e-16)"
   ]
  },
  {
   "cell_type": "code",
   "execution_count": 11,
   "id": "close-password",
   "metadata": {},
   "outputs": [],
   "source": [
    "import rpy2"
   ]
  },
  {
   "cell_type": "markdown",
   "id": "invisible-leader",
   "metadata": {},
   "source": [
    "# Interpretting the coefficients"
   ]
  },
  {
   "cell_type": "code",
   "execution_count": null,
   "id": "faced-southwest",
   "metadata": {},
   "outputs": [],
   "source": []
  },
  {
   "cell_type": "markdown",
   "id": "sixth-hungarian",
   "metadata": {},
   "source": [
    "# How to plot the model predictions"
   ]
  },
  {
   "cell_type": "code",
   "execution_count": null,
   "id": "happy-albania",
   "metadata": {},
   "outputs": [],
   "source": [
    "log_odds_predictions_1 = mod.params.loc['const', 0] +  mod.params.loc['income', 0] * df['income']\n",
    "log_odds_predictions_2 = mod.params.loc['const', 1] +  mod.params.loc['income', 1] * df['income']\n",
    "\n",
    "probability_predictions_1 = np.exp(log_odds_predictions_1)/(1 + np.exp(log_odds_predictions_1) + np.exp(log_odds_predictions_2))\n",
    "\n",
    "probability_predictions_2 = np.exp(log_odds_predictions_2)/(1 + np.exp(log_odds_predictions_1) + np.exp(log_odds_predictions_2))\n",
    "\n",
    "probability_predictions_0 = 1 - probability_predictions_1 - probability_predictions_2"
   ]
  },
  {
   "cell_type": "code",
   "execution_count": null,
   "id": "experimental-kelly",
   "metadata": {},
   "outputs": [],
   "source": [
    "relig_color = {0: 'darkblue',\n",
    "              1: 'darkred',\n",
    "              2: 'darkgreen'}\n",
    "\n",
    "fig, ax = plt.subplots(nrows =1, ncols=2, figsize = (16, 4))\n",
    "ax[0].scatter(df['income'], df['religion_dummy'] , c = df['religion_dummy'].map(relig_color))\n",
    "ax[0].set_yticks([0,1,2])\n",
    "ax[0].set_ylabel('Religion Dummy')\n",
    "ax[0].set_xlabel('Income')\n",
    "ax[1].scatter(df['income'], probability_predictions_0, color = 'darkblue', label = 'Children of the Titans' )\n",
    "ax[1].scatter(df['income'], probability_predictions_1, color = 'darkred', label = 'Communion of the Sacrifice')\n",
    "ax[1].scatter(df['income'], probability_predictions_2, color = 'darkgreen', label = 'Healers of Symmetry')\n",
    "ax[1].set_ylabel('Probability')\n",
    "ax[1].set_xlabel('Income')\n",
    "plt.legend(bbox_to_anchor = (0.1,-0.1))\n",
    "plt.show()"
   ]
  },
  {
   "cell_type": "code",
   "execution_count": null,
   "id": "fossil-norway",
   "metadata": {},
   "outputs": [],
   "source": []
  }
 ],
 "metadata": {
  "kernelspec": {
   "display_name": "Python 3 (ipykernel)",
   "language": "python",
   "name": "python3"
  },
  "language_info": {
   "codemirror_mode": {
    "name": "ipython",
    "version": 3
   },
   "file_extension": ".py",
   "mimetype": "text/x-python",
   "name": "python",
   "nbconvert_exporter": "python",
   "pygments_lexer": "ipython3",
   "version": "3.7.11"
  }
 },
 "nbformat": 4,
 "nbformat_minor": 5
}
